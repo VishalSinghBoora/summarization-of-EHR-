{
 "cells": [
  {
   "cell_type": "code",
   "execution_count": 2,
   "id": "25183de1-2fe3-4dcc-8572-d4f3267a85c0",
   "metadata": {},
   "outputs": [
    {
     "name": "stdout",
     "output_type": "stream",
     "text": [
      "Using device: cpu\n"
     ]
    },
    {
     "data": {
      "application/vnd.jupyter.widget-view+json": {
       "model_id": "44859b2192df4dbc9f485420d3b334fd",
       "version_major": 2,
       "version_minor": 0
      },
      "text/plain": [
       "Map:   0%|          | 0/4 [00:00<?, ? examples/s]"
      ]
     },
     "metadata": {},
     "output_type": "display_data"
    },
    {
     "data": {
      "application/vnd.jupyter.widget-view+json": {
       "model_id": "08ea801904a946efad0c95a37f45b607",
       "version_major": 2,
       "version_minor": 0
      },
      "text/plain": [
       "Map:   0%|          | 0/1 [00:00<?, ? examples/s]"
      ]
     },
     "metadata": {},
     "output_type": "display_data"
    },
    {
     "name": "stderr",
     "output_type": "stream",
     "text": [
      "C:\\Users\\Vishal Boora\\anaconda3\\Lib\\site-packages\\torch\\utils\\data\\dataloader.py:666: UserWarning: 'pin_memory' argument is set as true but no accelerator is found, then device pinned memory won't be used.\n",
      "  warnings.warn(warn_msg)\n"
     ]
    },
    {
     "data": {
      "text/html": [
       "\n",
       "    <div>\n",
       "      \n",
       "      <progress value='2' max='2' style='width:300px; height:20px; vertical-align: middle;'></progress>\n",
       "      [2/2 00:23, Epoch 2/2]\n",
       "    </div>\n",
       "    <table border=\"1\" class=\"dataframe\">\n",
       "  <thead>\n",
       " <tr style=\"text-align: left;\">\n",
       "      <th>Step</th>\n",
       "      <th>Training Loss</th>\n",
       "    </tr>\n",
       "  </thead>\n",
       "  <tbody>\n",
       "  </tbody>\n",
       "</table><p>"
      ],
      "text/plain": [
       "<IPython.core.display.HTML object>"
      ]
     },
     "metadata": {},
     "output_type": "display_data"
    },
    {
     "name": "stdout",
     "output_type": "stream",
     "text": [
      "Original EHR Text:\n",
      " Patient admitted with chest pain. Hx of HTN and DM. BP 150/95. Prescribed aspirin and beta-blocker.\n",
      "\n",
      "Generated Summary:\n",
      " patient admitted with chest pain. aspirin and beta-blocker.\n"
     ]
    },
    {
     "data": {
      "text/plain": [
       "('./t5_ehr_summary_model\\\\tokenizer_config.json',\n",
       " './t5_ehr_summary_model\\\\special_tokens_map.json',\n",
       " './t5_ehr_summary_model\\\\spiece.model',\n",
       " './t5_ehr_summary_model\\\\added_tokens.json')"
      ]
     },
     "execution_count": 2,
     "metadata": {},
     "output_type": "execute_result"
    }
   ],
   "source": [
    "\n",
    "# STEP 1: Install dependencies\n",
    "\n",
    "!pip install transformers datasets sentencepiece -q\n",
    "\n",
    "\n",
    "# STEP 2: Import Libraries\n",
    "\n",
    "import pandas as pd\n",
    "import torch\n",
    "from transformers import T5Tokenizer, T5ForConditionalGeneration, Trainer, TrainingArguments\n",
    "from sklearn.model_selection import train_test_split\n",
    "from datasets import Dataset\n",
    "\n",
    "\n",
    "device = 'cuda' if torch.cuda.is_available() else 'cpu'\n",
    "print(f\"Using device: {device}\")\n",
    "\n",
    "\n",
    "# STEP 3: Load Your Dataset\n",
    "\n",
    "\n",
    "df = pd.read_csv(\"ehr_notes.csv\")\n",
    "\n",
    "# STEP 4: Split and Convert to HuggingFace Dataset\n",
    "\n",
    "train_df, val_df = train_test_split(df, test_size=0.1, random_state=42)\n",
    "train_dataset = Dataset.from_pandas(train_df)\n",
    "val_dataset = Dataset.from_pandas(val_df)\n",
    "\n",
    "\n",
    "# STEP 5: Load T5 Tokenizer & Model\n",
    "\n",
    "model_name = \"t5-small\"  # you can try \"t5-base\" for better performance\n",
    "tokenizer = T5Tokenizer.from_pretrained(model_name)\n",
    "model = T5ForConditionalGeneration.from_pretrained(model_name).to(device)\n",
    "\n",
    "\n",
    "# STEP 6: Preprocessing Function\n",
    "\n",
    "max_input_length = 512\n",
    "max_target_length = 128\n",
    "\n",
    "def preprocess(example):\n",
    "    input_text = \"summarize: \" + example[\"text\"]\n",
    "    inputs = tokenizer(input_text, padding=\"max_length\", truncation=True, max_length=max_input_length)\n",
    "    targets = tokenizer(example[\"summary\"], padding=\"max_length\", truncation=True, max_length=max_target_length)\n",
    "\n",
    "    inputs[\"labels\"] = targets[\"input_ids\"]\n",
    "    return inputs\n",
    "\n",
    "train_dataset = train_dataset.map(preprocess, batched=False)\n",
    "val_dataset = val_dataset.map(preprocess, batched=False)\n",
    "\n",
    "# Remove unnecessary columns\n",
    "train_dataset.set_format(type=\"torch\", columns=[\"input_ids\", \"attention_mask\", \"labels\"])\n",
    "val_dataset.set_format(type=\"torch\", columns=[\"input_ids\", \"attention_mask\", \"labels\"])\n",
    "\n",
    "# STEP 7: TrainingArguments and Trainer\n",
    "training_args = TrainingArguments(\n",
    "    output_dir=\"./t5_ehr_summary\",\n",
    "    per_device_train_batch_size=4,\n",
    "    per_device_eval_batch_size=4,\n",
    "    num_train_epochs=2,\n",
    "    logging_dir='./logs',\n",
    "    logging_steps=100\n",
    ")\n",
    "\n",
    "\n",
    "trainer = Trainer(\n",
    "    model=model,\n",
    "    args=training_args,\n",
    "    train_dataset=train_dataset,\n",
    "    eval_dataset=val_dataset,\n",
    ")\n",
    "\n",
    "\n",
    "# STEP 8: Train the Model\n",
    "\n",
    "trainer.train()\n",
    "\n",
    "\n",
    "\n",
    "\n",
    "def summarize(text):\n",
    "    input_ids = tokenizer(\"summarize: \" + text, return_tensors=\"pt\", truncation=True, padding=\"max_length\", max_length=512).input_ids.to(device)\n",
    "    summary_ids = model.generate(input_ids, max_length=128, num_beams=4, early_stopping=True)\n",
    "    return tokenizer.decode(summary_ids[0], skip_special_tokens=True)\n",
    "\n",
    "\n",
    "# STEP 10: Test Summarization\n",
    "\n",
    "sample_text = df.iloc[0]['text']\n",
    "print(\"Original EHR Text:\\n\", sample_text)\n",
    "print(\"\\nGenerated Summary:\\n\", summarize(sample_text))\n",
    "\n",
    "\n",
    "# STEP 11: Save Model\n",
    "\n",
    "model.save_pretrained(\"./t5_ehr_summary_model\")\n",
    "tokenizer.save_pretrained(\"./t5_ehr_summary_model\")\n"
   ]
  },
  {
   "cell_type": "code",
   "execution_count": null,
   "id": "7495cc6b-18e0-4452-83e9-d61a63b42f03",
   "metadata": {},
   "outputs": [],
   "source": []
  }
 ],
 "metadata": {
  "kernelspec": {
   "display_name": "Python 3 (ipykernel)",
   "language": "python",
   "name": "python3"
  },
  "language_info": {
   "codemirror_mode": {
    "name": "ipython",
    "version": 3
   },
   "file_extension": ".py",
   "mimetype": "text/x-python",
   "name": "python",
   "nbconvert_exporter": "python",
   "pygments_lexer": "ipython3",
   "version": "3.13.5"
  }
 },
 "nbformat": 4,
 "nbformat_minor": 5
}
